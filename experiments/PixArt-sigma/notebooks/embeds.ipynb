{
 "cells": [
  {
   "cell_type": "code",
   "execution_count": 7,
   "metadata": {},
   "outputs": [
    {
     "name": "stdout",
     "output_type": "stream",
     "text": [
      "/mnt/51eb0667-f71d-4fe0-a83e-beaff24c04fb/om/depth_estimation_experiments/DiT/PixArt-sigma/output/null_embedding\n"
     ]
    },
    {
     "name": "stderr",
     "output_type": "stream",
     "text": [
      "/mnt/51eb0667-f71d-4fe0-a83e-beaff24c04fb/anaconda/envs/pixart/lib/python3.9/site-packages/tqdm/auto.py:21: TqdmWarning: IProgress not found. Please update jupyter and ipywidgets. See https://ipywidgets.readthedocs.io/en/stable/user_install.html\n",
      "  from .autonotebook import tqdm as notebook_tqdm\n"
     ]
    },
    {
     "name": "stdout",
     "output_type": "stream",
     "text": [
      "Loaded null caption token and embeddings from /mnt/51eb0667-f71d-4fe0-a83e-beaff24c04fb/om/depth_estimation_experiments/DiT/PixArt-sigma/output/null_embedding\n"
     ]
    }
   ],
   "source": [
    "import os\n",
    "import torch\n",
    "\n",
    "def load_null_caption_embeddings(save_dir=\"/mnt/51eb0667-f71d-4fe0-a83e-beaff24c04fb/om/depth_estimation_experiments/DiT/PixArt-sigma/output/null_embedding\"):\n",
    "    \"\"\"Load the saved null caption token and its embeddings from .pt files.\"\"\"\n",
    "    print(save_dir)\n",
    "    if not os.path.exists(save_dir):\n",
    "        raise FileNotFoundError(f\"The directory {save_dir} does not exist.\")\n",
    "\n",
    "    null_caption_token = torch.load(os.path.join(save_dir, \"null_caption_token.pt\"))\n",
    "    null_caption_embs = torch.load(os.path.join(save_dir, \"null_caption_embs.pt\"))\n",
    "\n",
    "    print(f\"Loaded null caption token and embeddings from {save_dir}\")\n",
    "    return null_caption_token, null_caption_embs\n",
    "\n",
    "save_dir = \"output/null_embedding\"\n",
    "null_caption_token, null_caption_embs = load_null_caption_embeddings()"
   ]
  },
  {
   "cell_type": "code",
   "execution_count": 8,
   "metadata": {},
   "outputs": [],
   "source": [
    "bs = 4\n",
    "y = null_caption_embs.unsqueeze(0).repeat(bs, 1, 1, 1).detach()"
   ]
  },
  {
   "cell_type": "code",
   "execution_count": 9,
   "metadata": {},
   "outputs": [
    {
     "data": {
      "text/plain": [
       "torch.Size([4, 1, 300, 4096])"
      ]
     },
     "execution_count": 9,
     "metadata": {},
     "output_type": "execute_result"
    }
   ],
   "source": [
    "y.shape"
   ]
  },
  {
   "cell_type": "code",
   "execution_count": null,
   "metadata": {},
   "outputs": [],
   "source": []
  }
 ],
 "metadata": {
  "kernelspec": {
   "display_name": "pixart",
   "language": "python",
   "name": "python3"
  },
  "language_info": {
   "codemirror_mode": {
    "name": "ipython",
    "version": 3
   },
   "file_extension": ".py",
   "mimetype": "text/x-python",
   "name": "python",
   "nbconvert_exporter": "python",
   "pygments_lexer": "ipython3",
   "version": "3.9.20"
  }
 },
 "nbformat": 4,
 "nbformat_minor": 2
}
